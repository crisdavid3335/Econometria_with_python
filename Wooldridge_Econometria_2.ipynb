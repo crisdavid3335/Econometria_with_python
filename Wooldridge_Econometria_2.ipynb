{
 "cells": [
  {
   "cell_type": "markdown",
   "metadata": {},
   "source": [
    "Use la base de datos CHARITY.RAW [obtenidos de Franses y Paap (2001)] para responder a\n",
    "las preguntas siguientes:"
   ]
  },
  {
   "cell_type": "code",
   "execution_count": 1,
   "metadata": {},
   "outputs": [],
   "source": [
    "# Importamos las librerias\n",
    "import pandas as pd\n",
    "import statsmodels.api as sm\n",
    "from sklearn.metrics import r2_score\n"
   ]
  },
  {
   "cell_type": "code",
   "execution_count": 2,
   "metadata": {},
   "outputs": [
    {
     "data": {
      "text/html": [
       "<div>\n",
       "<style scoped>\n",
       "    .dataframe tbody tr th:only-of-type {\n",
       "        vertical-align: middle;\n",
       "    }\n",
       "\n",
       "    .dataframe tbody tr th {\n",
       "        vertical-align: top;\n",
       "    }\n",
       "\n",
       "    .dataframe thead th {\n",
       "        text-align: right;\n",
       "    }\n",
       "</style>\n",
       "<table border=\"1\" class=\"dataframe\">\n",
       "  <thead>\n",
       "    <tr style=\"text-align: right;\">\n",
       "      <th></th>\n",
       "      <th>respond</th>\n",
       "      <th>gift</th>\n",
       "      <th>resplast</th>\n",
       "      <th>weekslast</th>\n",
       "      <th>propresp</th>\n",
       "      <th>mailsyear</th>\n",
       "      <th>giftlast</th>\n",
       "      <th>avggift</th>\n",
       "    </tr>\n",
       "  </thead>\n",
       "  <tbody>\n",
       "    <tr>\n",
       "      <th>0</th>\n",
       "      <td>0</td>\n",
       "      <td>0</td>\n",
       "      <td>0</td>\n",
       "      <td>143.00000</td>\n",
       "      <td>0.3</td>\n",
       "      <td>2.5</td>\n",
       "      <td>10</td>\n",
       "      <td>10.0</td>\n",
       "    </tr>\n",
       "    <tr>\n",
       "      <th>1</th>\n",
       "      <td>0</td>\n",
       "      <td>0</td>\n",
       "      <td>0</td>\n",
       "      <td>65.42857</td>\n",
       "      <td>0.3</td>\n",
       "      <td>2.5</td>\n",
       "      <td>10</td>\n",
       "      <td>10.0</td>\n",
       "    </tr>\n",
       "    <tr>\n",
       "      <th>2</th>\n",
       "      <td>0</td>\n",
       "      <td>0</td>\n",
       "      <td>1</td>\n",
       "      <td>13.14286</td>\n",
       "      <td>0.3</td>\n",
       "      <td>2.5</td>\n",
       "      <td>10</td>\n",
       "      <td>10.0</td>\n",
       "    </tr>\n",
       "    <tr>\n",
       "      <th>3</th>\n",
       "      <td>0</td>\n",
       "      <td>0</td>\n",
       "      <td>0</td>\n",
       "      <td>120.14290</td>\n",
       "      <td>0.3</td>\n",
       "      <td>2.5</td>\n",
       "      <td>10</td>\n",
       "      <td>10.0</td>\n",
       "    </tr>\n",
       "    <tr>\n",
       "      <th>4</th>\n",
       "      <td>1</td>\n",
       "      <td>10</td>\n",
       "      <td>0</td>\n",
       "      <td>103.85710</td>\n",
       "      <td>0.2</td>\n",
       "      <td>2.5</td>\n",
       "      <td>10</td>\n",
       "      <td>10.0</td>\n",
       "    </tr>\n",
       "  </tbody>\n",
       "</table>\n",
       "</div>"
      ],
      "text/plain": [
       "   respond  gift  resplast  weekslast  propresp  mailsyear  giftlast  avggift\n",
       "0        0     0         0  143.00000       0.3        2.5        10     10.0\n",
       "1        0     0         0   65.42857       0.3        2.5        10     10.0\n",
       "2        0     0         1   13.14286       0.3        2.5        10     10.0\n",
       "3        0     0         0  120.14290       0.3        2.5        10     10.0\n",
       "4        1    10         0  103.85710       0.2        2.5        10     10.0"
      ]
     },
     "execution_count": 2,
     "metadata": {},
     "output_type": "execute_result"
    }
   ],
   "source": [
    "# Cargamos el archivo\n",
    "data = pd.read_csv(\n",
    "    'C:/Users/crisd/OneDrive/Escritorio/libros/Datasets/charity.csv')\n",
    "data.head()\n"
   ]
  },
  {
   "cell_type": "markdown",
   "metadata": {},
   "source": [
    "i) ¿Cuál es el donativo (gift) promedio en esta muestra de 4,268 personas (en florines holandeses)?\n",
    "¿Qué porcentaje de estas personas no dio ningún donativo?"
   ]
  },
  {
   "cell_type": "code",
   "execution_count": 3,
   "metadata": {},
   "outputs": [
    {
     "name": "stdout",
     "output_type": "stream",
     "text": [
      "El promedio de donativos es: 7.44 florines\n",
      "La cantidad de personas que no donaron es: 60.00%\n"
     ]
    }
   ],
   "source": [
    "# Respuesta 1\n",
    "print('El promedio de donativos es: %.2f' %\n",
    "        data['gift'].describe()[1], 'florines')\n",
    "no_donar = len(data[data['gift'] == 0])/len(data)*100\n",
    "print(f'La cantidad de personas que no donaron es: {no_donar:.2f}%')\n"
   ]
  },
  {
   "cell_type": "markdown",
   "metadata": {},
   "source": [
    "ii) ¿Cuál es el promedio de envíos por año (mailsyear)? ¿Cuáles son los valores mínimo y\n",
    "máximo? "
   ]
  },
  {
   "cell_type": "code",
   "execution_count": 4,
   "metadata": {},
   "outputs": [
    {
     "name": "stdout",
     "output_type": "stream",
     "text": [
      "El promedio de envios por año es: 2.05\n",
      "El valor máximo de envios por año es: 3.50\n",
      "El valor mínimo de envios por año es: 0.25\n"
     ]
    }
   ],
   "source": [
    "# Respuesta 2\n",
    "print(f'El promedio de envios por año es: {data.iloc[:,-3].mean():.2f}')\n",
    "print(f'El valor máximo de envios por año es: {data.iloc[:,-3].max():.2f}')\n",
    "print(f'El valor mínimo de envios por año es: {data.iloc[:,-3].min():.2f}')\n"
   ]
  },
  {
   "cell_type": "markdown",
   "metadata": {},
   "source": [
    "iii) Estime el modelo:\n",
    "$$ gift = \\beta_0 + \\beta_1 \\left( mailsyear \\right) + u$$\n",
    "mediante MCO y dé los resultados de la manera usual, incluidos el tamaño de la muestra\n",
    "y la R-cuadrada."
   ]
  },
  {
   "cell_type": "code",
   "execution_count": 5,
   "metadata": {},
   "outputs": [
    {
     "data": {
      "text/html": [
       "<table class=\"simpletable\">\n",
       "<caption>OLS Regression Results</caption>\n",
       "<tr>\n",
       "  <th>Dep. Variable:</th>          <td>gift</td>       <th>  R-squared:         </th> <td>   0.014</td> \n",
       "</tr>\n",
       "<tr>\n",
       "  <th>Model:</th>                   <td>OLS</td>       <th>  Adj. R-squared:    </th> <td>   0.014</td> \n",
       "</tr>\n",
       "<tr>\n",
       "  <th>Method:</th>             <td>Least Squares</td>  <th>  F-statistic:       </th> <td>   59.65</td> \n",
       "</tr>\n",
       "<tr>\n",
       "  <th>Date:</th>             <td>Mon, 02 May 2022</td> <th>  Prob (F-statistic):</th> <td>1.40e-14</td> \n",
       "</tr>\n",
       "<tr>\n",
       "  <th>Time:</th>                 <td>22:14:36</td>     <th>  Log-Likelihood:    </th> <td> -17602.</td> \n",
       "</tr>\n",
       "<tr>\n",
       "  <th>No. Observations:</th>      <td>  4268</td>      <th>  AIC:               </th> <td>3.521e+04</td>\n",
       "</tr>\n",
       "<tr>\n",
       "  <th>Df Residuals:</th>          <td>  4266</td>      <th>  BIC:               </th> <td>3.522e+04</td>\n",
       "</tr>\n",
       "<tr>\n",
       "  <th>Df Model:</th>              <td>     1</td>      <th>                     </th>     <td> </td>    \n",
       "</tr>\n",
       "<tr>\n",
       "  <th>Covariance Type:</th>      <td>nonrobust</td>    <th>                     </th>     <td> </td>    \n",
       "</tr>\n",
       "</table>\n",
       "<table class=\"simpletable\">\n",
       "<tr>\n",
       "      <td></td>         <th>coef</th>     <th>std err</th>      <th>t</th>      <th>P>|t|</th>  <th>[0.025</th>    <th>0.975]</th>  \n",
       "</tr>\n",
       "<tr>\n",
       "  <th>const</th>     <td>    2.0141</td> <td>    0.739</td> <td>    2.724</td> <td> 0.006</td> <td>    0.564</td> <td>    3.464</td>\n",
       "</tr>\n",
       "<tr>\n",
       "  <th>mailsyear</th> <td>    2.6495</td> <td>    0.343</td> <td>    7.723</td> <td> 0.000</td> <td>    1.977</td> <td>    3.322</td>\n",
       "</tr>\n",
       "</table>\n",
       "<table class=\"simpletable\">\n",
       "<tr>\n",
       "  <th>Omnibus:</th>       <td>4951.411</td> <th>  Durbin-Watson:     </th>  <td>   1.529</td> \n",
       "</tr>\n",
       "<tr>\n",
       "  <th>Prob(Omnibus):</th>  <td> 0.000</td>  <th>  Jarque-Bera (JB):  </th> <td>784986.187</td>\n",
       "</tr>\n",
       "<tr>\n",
       "  <th>Skew:</th>           <td> 5.889</td>  <th>  Prob(JB):          </th>  <td>    0.00</td> \n",
       "</tr>\n",
       "<tr>\n",
       "  <th>Kurtosis:</th>       <td>68.387</td>  <th>  Cond. No.          </th>  <td>    8.34</td> \n",
       "</tr>\n",
       "</table><br/><br/>Notes:<br/>[1] Standard Errors assume that the covariance matrix of the errors is correctly specified."
      ],
      "text/plain": [
       "<class 'statsmodels.iolib.summary.Summary'>\n",
       "\"\"\"\n",
       "                            OLS Regression Results                            \n",
       "==============================================================================\n",
       "Dep. Variable:                   gift   R-squared:                       0.014\n",
       "Model:                            OLS   Adj. R-squared:                  0.014\n",
       "Method:                 Least Squares   F-statistic:                     59.65\n",
       "Date:                Mon, 02 May 2022   Prob (F-statistic):           1.40e-14\n",
       "Time:                        22:14:36   Log-Likelihood:                -17602.\n",
       "No. Observations:                4268   AIC:                         3.521e+04\n",
       "Df Residuals:                    4266   BIC:                         3.522e+04\n",
       "Df Model:                           1                                         \n",
       "Covariance Type:            nonrobust                                         \n",
       "==============================================================================\n",
       "                 coef    std err          t      P>|t|      [0.025      0.975]\n",
       "------------------------------------------------------------------------------\n",
       "const          2.0141      0.739      2.724      0.006       0.564       3.464\n",
       "mailsyear      2.6495      0.343      7.723      0.000       1.977       3.322\n",
       "==============================================================================\n",
       "Omnibus:                     4951.411   Durbin-Watson:                   1.529\n",
       "Prob(Omnibus):                  0.000   Jarque-Bera (JB):           784986.187\n",
       "Skew:                           5.889   Prob(JB):                         0.00\n",
       "Kurtosis:                      68.387   Cond. No.                         8.34\n",
       "==============================================================================\n",
       "\n",
       "Notes:\n",
       "[1] Standard Errors assume that the covariance matrix of the errors is correctly specified.\n",
       "\"\"\""
      ]
     },
     "execution_count": 5,
     "metadata": {},
     "output_type": "execute_result"
    }
   ],
   "source": [
    "# Se separan las variables y los objetivos\n",
    "y = data['gift'].copy()\n",
    "x = data['mailsyear'].copy()\n",
    "\n",
    "# Se añade una columna de 1s (interceptos)\n",
    "x = sm.add_constant(x)\n",
    "\n",
    "# Se estima el modelo\n",
    "model = sm.OLS(y, x).fit()\n",
    "model.summary()\n"
   ]
  },
  {
   "cell_type": "code",
   "execution_count": 6,
   "metadata": {},
   "outputs": [
    {
     "name": "stdout",
     "output_type": "stream",
     "text": [
      "El valor de la constante es: 2.01408\n",
      "El valor de la variable mailsyear es: 2.64955\n",
      "El tamaño de la muestra es: 4268\n",
      "El coeficiente de determinación r2 es: 0.01379\n"
     ]
    }
   ],
   "source": [
    "# Respuesta 3\n",
    "print(f'El valor de la constante es: {model.params[0]:.5f}')\n",
    "print(f'El valor de la variable mailsyear es: {model.params[1]:.5f}')\n",
    "print(f'El tamaño de la muestra es: {len(data):.0f}')\n",
    "print(f'El coeficiente de determinación r2 es: {model.rsquared:.5f}')\n"
   ]
  },
  {
   "cell_type": "markdown",
   "metadata": {},
   "source": [
    "iv) Interprete el coeficiente de la pendiente. Si cada envío cuesta un florín, ¿espera la beneficencia obtener una ganancia neta por cada envío? ¿Significa esto que la beneficencia\n",
    "obtiene una ganancia neta en cada envío? Explique.\n"
   ]
  },
  {
   "cell_type": "code",
   "execution_count": 7,
   "metadata": {},
   "outputs": [
    {
     "name": "stdout",
     "output_type": "stream",
     "text": [
      "Sí el envio cuesta un florín y el ingreso esperado por un correo es: 2.65\n",
      "Entonces, si se envía 1 correo el ingreso esperado es: 1.65\n",
      "Cada correo genera ganancias netas para la beneficencia.\n"
     ]
    }
   ],
   "source": [
    "# Respuesta 4\n",
    "b0 = model.params[0]\n",
    "b1 = model.params[1]\n",
    "\n",
    "print(\n",
    "    f'Sí el envio cuesta un florín y el ingreso esperado por un correo es: {b1:.2f}')\n",
    "print(f'Entonces, si se envía 1 correo el ingreso esperado es: {b1-1:.2f}')\n",
    "print('Cada correo genera ganancias netas para la beneficencia.')\n"
   ]
  },
  {
   "cell_type": "markdown",
   "metadata": {},
   "source": [
    "v) En esta muestra, ¿cuál es el menor donativo? Usando el análisis de regresión simple, ¿se\n",
    "puede predecir que gift sea igual a cero?"
   ]
  },
  {
   "cell_type": "code",
   "execution_count": 8,
   "metadata": {},
   "outputs": [
    {
     "name": "stdout",
     "output_type": "stream",
     "text": [
      "El donativo más pequeño fue de 0.25 florines, \n",
      "dado que el intercepto y la pendiente son positivas \n",
      "se puede deducir que el donativo nunca sera negativo.\n",
      "En todo caso el donativo menor sera de 2.68 florines.\n"
     ]
    }
   ],
   "source": [
    "# Respuesta 5\n",
    "respuesta = '''El donativo más pequeño fue de 0.25 florines, \n",
    "dado que el intercepto y la pendiente son positivas \n",
    "se puede deducir que el donativo nunca sera negativo.'''\n",
    "print(respuesta)\n",
    "g_min = b0+b1*0.25\n",
    "print(f'En todo caso el donativo menor sera de {g_min:.2f} florines.')\n"
   ]
  }
 ],
 "metadata": {
  "interpreter": {
   "hash": "4f3e88968e79eb17d1c50545c458a5c335732b257e528cef8662e2abe410ff26"
  },
  "kernelspec": {
   "display_name": "Python 3.8.10 64-bit (windows store)",
   "language": "python",
   "name": "python3"
  },
  "language_info": {
   "codemirror_mode": {
    "name": "ipython",
    "version": 3
   },
   "file_extension": ".py",
   "mimetype": "text/x-python",
   "name": "python",
   "nbconvert_exporter": "python",
   "pygments_lexer": "ipython3",
   "version": "3.8.10"
  },
  "orig_nbformat": 4
 },
 "nbformat": 4,
 "nbformat_minor": 2
}
