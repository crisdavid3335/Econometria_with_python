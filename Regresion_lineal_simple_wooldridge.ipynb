{
 "cells": [
  {
   "cell_type": "markdown",
   "metadata": {},
   "source": [
    "# Sueldo de los directores generales (CEO) y rendimiento sobre el capital"
   ]
  },
  {
   "cell_type": "markdown",
   "metadata": {},
   "source": [
    "<p align='justify'>En la población de los directores generales, sea y el sueldo anual (salary) en miles de dólares. De manera que y=856.3 corresponde a un sueldo anual de \\$856,300 y y=1,452.6 corresponde a un sueldo de $1,452,600. Sea x el promedio, en los últimos tres años, del rendimiento sobre el capital (roe) en las empresas de los CEO. (El rendimiento sobre el capital se define en términos de utilidad neta como porcentaje de acciones comunes.) Por ejemplo, si roe=10, el rendimiento promedio sobre el capital es 10 por ciento. \n",
    "</p>\n",
    "\n",
    "<p align='justify'> Para estudiar la relación entre esta medida del desempeño de una empresa y el pago que reciben los CEO, se postula el modelo:</p>\n",
    "\n",
    "$$ salary =  \\beta_0 + \\beta_1 (roe) +  u $$"
   ]
  },
  {
   "cell_type": "code",
   "execution_count": 1,
   "metadata": {},
   "outputs": [],
   "source": [
    "# Se importan las librerias necesarias\n",
    "import matplotlib.pyplot as plt\n",
    "import numpy as np\n",
    "import pandas as pd\n",
    "import seaborn as sns\n",
    "import statsmodels.api as sm\n",
    "from sklearn.linear_model import LinearRegression\n",
    "from sklearn.metrics import r2_score\n"
   ]
  },
  {
   "cell_type": "code",
   "execution_count": 2,
   "metadata": {},
   "outputs": [
    {
     "data": {
      "text/html": [
       "<div>\n",
       "<style scoped>\n",
       "    .dataframe tbody tr th:only-of-type {\n",
       "        vertical-align: middle;\n",
       "    }\n",
       "\n",
       "    .dataframe tbody tr th {\n",
       "        vertical-align: top;\n",
       "    }\n",
       "\n",
       "    .dataframe thead th {\n",
       "        text-align: right;\n",
       "    }\n",
       "</style>\n",
       "<table border=\"1\" class=\"dataframe\">\n",
       "  <thead>\n",
       "    <tr style=\"text-align: right;\">\n",
       "      <th></th>\n",
       "      <th>ROE</th>\n",
       "      <th>SALARY</th>\n",
       "    </tr>\n",
       "  </thead>\n",
       "  <tbody>\n",
       "    <tr>\n",
       "      <th>0</th>\n",
       "      <td>14.1</td>\n",
       "      <td>1095</td>\n",
       "    </tr>\n",
       "    <tr>\n",
       "      <th>1</th>\n",
       "      <td>10.9</td>\n",
       "      <td>1001</td>\n",
       "    </tr>\n",
       "    <tr>\n",
       "      <th>2</th>\n",
       "      <td>23.5</td>\n",
       "      <td>1122</td>\n",
       "    </tr>\n",
       "    <tr>\n",
       "      <th>3</th>\n",
       "      <td>5.9</td>\n",
       "      <td>578</td>\n",
       "    </tr>\n",
       "    <tr>\n",
       "      <th>4</th>\n",
       "      <td>13.8</td>\n",
       "      <td>1368</td>\n",
       "    </tr>\n",
       "  </tbody>\n",
       "</table>\n",
       "</div>"
      ],
      "text/plain": [
       "    ROE  SALARY\n",
       "0  14.1    1095\n",
       "1  10.9    1001\n",
       "2  23.5    1122\n",
       "3   5.9     578\n",
       "4  13.8    1368"
      ]
     },
     "execution_count": 2,
     "metadata": {},
     "output_type": "execute_result"
    }
   ],
   "source": [
    "# Se cargan los datos\n",
    "data = pd.read_excel(\n",
    "    'C:/Users/crisd/OneDrive/Escritorio/libros/Datasets/ceosal1.xlsx', usecols=['SALARY', 'ROE'])\n",
    "data.head()\n"
   ]
  },
  {
   "cell_type": "code",
   "execution_count": 3,
   "metadata": {},
   "outputs": [
    {
     "name": "stdout",
     "output_type": "stream",
     "text": [
      "<class 'pandas.core.frame.DataFrame'>\n",
      "RangeIndex: 209 entries, 0 to 208\n",
      "Data columns (total 2 columns):\n",
      " #   Column  Non-Null Count  Dtype  \n",
      "---  ------  --------------  -----  \n",
      " 0   ROE     209 non-null    float64\n",
      " 1   SALARY  209 non-null    int64  \n",
      "dtypes: float64(1), int64(1)\n",
      "memory usage: 3.4 KB\n"
     ]
    }
   ],
   "source": [
    "# Se reviza el dataset\n",
    "data.info()\n"
   ]
  },
  {
   "cell_type": "markdown",
   "metadata": {},
   "source": [
    "<p align='justify'>La base de datos CEOSAL1.RAW contiene información, correspondiente al año 1990, sobre 209 CEO; estos datos fueron obtenidos de Business Week (5/6/91). En esta muestra, el sueldo anual promedio es \\$1’281,120, y los sueldos menor y mayor son \\$223,000 y \\$14,822,000, respectivamente. La media del rendimiento sobre capital en 1988, 1989 y 1990 es 17.18% y los valores menor y mayor son 0.5 y 56.3%, respectivamente.</p>"
   ]
  },
  {
   "cell_type": "code",
   "execution_count": 4,
   "metadata": {},
   "outputs": [
    {
     "data": {
      "text/html": [
       "<div>\n",
       "<style scoped>\n",
       "    .dataframe tbody tr th:only-of-type {\n",
       "        vertical-align: middle;\n",
       "    }\n",
       "\n",
       "    .dataframe tbody tr th {\n",
       "        vertical-align: top;\n",
       "    }\n",
       "\n",
       "    .dataframe thead th {\n",
       "        text-align: right;\n",
       "    }\n",
       "</style>\n",
       "<table border=\"1\" class=\"dataframe\">\n",
       "  <thead>\n",
       "    <tr style=\"text-align: right;\">\n",
       "      <th></th>\n",
       "      <th>ROE</th>\n",
       "      <th>SALARY</th>\n",
       "    </tr>\n",
       "  </thead>\n",
       "  <tbody>\n",
       "    <tr>\n",
       "      <th>count</th>\n",
       "      <td>209.000000</td>\n",
       "      <td>209.000000</td>\n",
       "    </tr>\n",
       "    <tr>\n",
       "      <th>mean</th>\n",
       "      <td>17.184211</td>\n",
       "      <td>1281.119617</td>\n",
       "    </tr>\n",
       "    <tr>\n",
       "      <th>std</th>\n",
       "      <td>8.518509</td>\n",
       "      <td>1372.345308</td>\n",
       "    </tr>\n",
       "    <tr>\n",
       "      <th>min</th>\n",
       "      <td>0.500000</td>\n",
       "      <td>223.000000</td>\n",
       "    </tr>\n",
       "    <tr>\n",
       "      <th>25%</th>\n",
       "      <td>12.400000</td>\n",
       "      <td>736.000000</td>\n",
       "    </tr>\n",
       "    <tr>\n",
       "      <th>50%</th>\n",
       "      <td>15.500000</td>\n",
       "      <td>1039.000000</td>\n",
       "    </tr>\n",
       "    <tr>\n",
       "      <th>75%</th>\n",
       "      <td>20.000000</td>\n",
       "      <td>1407.000000</td>\n",
       "    </tr>\n",
       "    <tr>\n",
       "      <th>max</th>\n",
       "      <td>56.300000</td>\n",
       "      <td>14822.000000</td>\n",
       "    </tr>\n",
       "  </tbody>\n",
       "</table>\n",
       "</div>"
      ],
      "text/plain": [
       "              ROE        SALARY\n",
       "count  209.000000    209.000000\n",
       "mean    17.184211   1281.119617\n",
       "std      8.518509   1372.345308\n",
       "min      0.500000    223.000000\n",
       "25%     12.400000    736.000000\n",
       "50%     15.500000   1039.000000\n",
       "75%     20.000000   1407.000000\n",
       "max     56.300000  14822.000000"
      ]
     },
     "execution_count": 4,
     "metadata": {},
     "output_type": "execute_result"
    }
   ],
   "source": [
    "# Se imprimen las estadísticas descriptivas del conjunto de datos.\n",
    "data.describe()\n"
   ]
  },
  {
   "cell_type": "markdown",
   "metadata": {},
   "source": [
    "<p align='justify'>El parámetro de la pendiente 1 mide la variación del sueldo anual, en miles de dólares, que corresponde a un incremento de un punto porcentual en el rendimiento sobre capital. Debido a que un roe más alto es bueno para la empresa se considera que 1 > 0.</p>"
   ]
  },
  {
   "cell_type": "code",
   "execution_count": 5,
   "metadata": {},
   "outputs": [
    {
     "data": {
      "text/html": [
       "<table class=\"simpletable\">\n",
       "<caption>OLS Regression Results</caption>\n",
       "<tr>\n",
       "  <th>Dep. Variable:</th>         <td>SALARY</td>      <th>  R-squared:         </th> <td>   0.013</td>\n",
       "</tr>\n",
       "<tr>\n",
       "  <th>Model:</th>                   <td>OLS</td>       <th>  Adj. R-squared:    </th> <td>   0.008</td>\n",
       "</tr>\n",
       "<tr>\n",
       "  <th>Method:</th>             <td>Least Squares</td>  <th>  F-statistic:       </th> <td>   2.767</td>\n",
       "</tr>\n",
       "<tr>\n",
       "  <th>Date:</th>             <td>Mon, 02 May 2022</td> <th>  Prob (F-statistic):</th>  <td>0.0978</td> \n",
       "</tr>\n",
       "<tr>\n",
       "  <th>Time:</th>                 <td>16:45:04</td>     <th>  Log-Likelihood:    </th> <td> -1804.5</td>\n",
       "</tr>\n",
       "<tr>\n",
       "  <th>No. Observations:</th>      <td>   209</td>      <th>  AIC:               </th> <td>   3613.</td>\n",
       "</tr>\n",
       "<tr>\n",
       "  <th>Df Residuals:</th>          <td>   207</td>      <th>  BIC:               </th> <td>   3620.</td>\n",
       "</tr>\n",
       "<tr>\n",
       "  <th>Df Model:</th>              <td>     1</td>      <th>                     </th>     <td> </td>   \n",
       "</tr>\n",
       "<tr>\n",
       "  <th>Covariance Type:</th>      <td>nonrobust</td>    <th>                     </th>     <td> </td>   \n",
       "</tr>\n",
       "</table>\n",
       "<table class=\"simpletable\">\n",
       "<tr>\n",
       "    <td></td>       <th>coef</th>     <th>std err</th>      <th>t</th>      <th>P>|t|</th>  <th>[0.025</th>    <th>0.975]</th>  \n",
       "</tr>\n",
       "<tr>\n",
       "  <th>const</th> <td>  963.1913</td> <td>  213.240</td> <td>    4.517</td> <td> 0.000</td> <td>  542.790</td> <td> 1383.592</td>\n",
       "</tr>\n",
       "<tr>\n",
       "  <th>ROE</th>   <td>   18.5012</td> <td>   11.123</td> <td>    1.663</td> <td> 0.098</td> <td>   -3.428</td> <td>   40.431</td>\n",
       "</tr>\n",
       "</table>\n",
       "<table class=\"simpletable\">\n",
       "<tr>\n",
       "  <th>Omnibus:</th>       <td>311.096</td> <th>  Durbin-Watson:     </th> <td>   2.105</td> \n",
       "</tr>\n",
       "<tr>\n",
       "  <th>Prob(Omnibus):</th> <td> 0.000</td>  <th>  Jarque-Bera (JB):  </th> <td>31120.901</td>\n",
       "</tr>\n",
       "<tr>\n",
       "  <th>Skew:</th>          <td> 6.915</td>  <th>  Prob(JB):          </th> <td>    0.00</td> \n",
       "</tr>\n",
       "<tr>\n",
       "  <th>Kurtosis:</th>      <td>61.158</td>  <th>  Cond. No.          </th> <td>    43.3</td> \n",
       "</tr>\n",
       "</table><br/><br/>Notes:<br/>[1] Standard Errors assume that the covariance matrix of the errors is correctly specified."
      ],
      "text/plain": [
       "<class 'statsmodels.iolib.summary.Summary'>\n",
       "\"\"\"\n",
       "                            OLS Regression Results                            \n",
       "==============================================================================\n",
       "Dep. Variable:                 SALARY   R-squared:                       0.013\n",
       "Model:                            OLS   Adj. R-squared:                  0.008\n",
       "Method:                 Least Squares   F-statistic:                     2.767\n",
       "Date:                Mon, 02 May 2022   Prob (F-statistic):             0.0978\n",
       "Time:                        16:45:04   Log-Likelihood:                -1804.5\n",
       "No. Observations:                 209   AIC:                             3613.\n",
       "Df Residuals:                     207   BIC:                             3620.\n",
       "Df Model:                           1                                         \n",
       "Covariance Type:            nonrobust                                         \n",
       "==============================================================================\n",
       "                 coef    std err          t      P>|t|      [0.025      0.975]\n",
       "------------------------------------------------------------------------------\n",
       "const        963.1913    213.240      4.517      0.000     542.790    1383.592\n",
       "ROE           18.5012     11.123      1.663      0.098      -3.428      40.431\n",
       "==============================================================================\n",
       "Omnibus:                      311.096   Durbin-Watson:                   2.105\n",
       "Prob(Omnibus):                  0.000   Jarque-Bera (JB):            31120.901\n",
       "Skew:                           6.915   Prob(JB):                         0.00\n",
       "Kurtosis:                      61.158   Cond. No.                         43.3\n",
       "==============================================================================\n",
       "\n",
       "Notes:\n",
       "[1] Standard Errors assume that the covariance matrix of the errors is correctly specified.\n",
       "\"\"\""
      ]
     },
     "execution_count": 5,
     "metadata": {},
     "output_type": "execute_result"
    }
   ],
   "source": [
    "# Se separan las variables independiente y dependiente.\n",
    "X = data['ROE'].copy()\n",
    "y = data['SALARY'].copy()\n",
    "\n",
    "# Para el caso de la api de statsmodels se requiere colocar el intercepto manualmente.\n",
    "X_sm = sm.add_constant(X)\n",
    "\n",
    "# Se crea el modelo de regresion lineal.\n",
    "model = sm.OLS(y, X_sm).fit()\n",
    "\n",
    "# Se imprime el resumen del modelo.\n",
    "model.summary()\n"
   ]
  },
  {
   "cell_type": "code",
   "execution_count": 6,
   "metadata": {},
   "outputs": [
    {
     "name": "stdout",
     "output_type": "stream",
     "text": [
      "Intercepto: 963.1913274732431\n",
      "Coeficiente B1: 18.501186846190226\n"
     ]
    }
   ],
   "source": [
    "# Para el caso de la api de sklearn se requiere cambiar el formato de las variables.\n",
    "model_sk = LinearRegression().fit(X.values.reshape(-1, 1), y.values)\n",
    "\n",
    "# Se imprime el resumen del modelo.\n",
    "# Sklearn no posee resumen del modelo.\n",
    "# Se imprime el intercepto y la coeficiente de la regresion lineal.\n",
    "print('Intercepto:', model_sk.intercept_)\n",
    "print('Coeficiente B1:', model_sk.coef_[0])\n"
   ]
  },
  {
   "cell_type": "markdown",
   "metadata": {},
   "source": [
    "<p align='justify'>Usando los datos de CEOSAL1, la línea de regresión de MCO que relaciona salary y roe es:</p>\n",
    "\n",
    "$$ \\widehat{salary} = 963.191 + 18.501 \\left( roe\\right) $$"
   ]
  },
  {
   "cell_type": "code",
   "execution_count": 7,
   "metadata": {},
   "outputs": [
    {
     "data": {
      "image/png": "[encoded data removed]",
      "text/plain": [
       "<Figure size 432x288 with 1 Axes>"
      ]
     },
     "metadata": {
      "needs_background": "light"
     },
     "output_type": "display_data"
    }
   ],
   "source": [
    "# Se grafica el modelo.\n",
    "plt.scatter(X, y)\n",
    "plt.plot(X, model.predict(X_sm), color='red')\n",
    "plt.show()\n"
   ]
  },
  {
   "cell_type": "code",
   "execution_count": 8,
   "metadata": {},
   "outputs": [
    {
     "data": {
      "image/png": "[encoded data removed]",
      "text/plain": [
       "<Figure size 432x288 with 1 Axes>"
      ]
     },
     "metadata": {
      "needs_background": "light"
     },
     "output_type": "display_data"
    }
   ],
   "source": [
    "# Otra forma de graficar el modelo.\n",
    "sns.regplot(x=X, y=y, color='salmon', marker='o', line_kws={'color': 'b'})\n",
    "plt.show()\n"
   ]
  },
  {
   "cell_type": "markdown",
   "metadata": {},
   "source": [
    "Calculamos los errores."
   ]
  },
  {
   "cell_type": "code",
   "execution_count": 9,
   "metadata": {},
   "outputs": [
    {
     "data": {
      "text/html": [
       "<div>\n",
       "<style scoped>\n",
       "    .dataframe tbody tr th:only-of-type {\n",
       "        vertical-align: middle;\n",
       "    }\n",
       "\n",
       "    .dataframe tbody tr th {\n",
       "        vertical-align: top;\n",
       "    }\n",
       "\n",
       "    .dataframe thead th {\n",
       "        text-align: right;\n",
       "    }\n",
       "</style>\n",
       "<table border=\"1\" class=\"dataframe\">\n",
       "  <thead>\n",
       "    <tr style=\"text-align: right;\">\n",
       "      <th></th>\n",
       "      <th>x</th>\n",
       "      <th>y</th>\n",
       "      <th>y_hat</th>\n",
       "      <th>u</th>\n",
       "    </tr>\n",
       "  </thead>\n",
       "  <tbody>\n",
       "    <tr>\n",
       "      <th>0</th>\n",
       "      <td>14.1</td>\n",
       "      <td>1095</td>\n",
       "      <td>1224.058062</td>\n",
       "      <td>-129.058062</td>\n",
       "    </tr>\n",
       "    <tr>\n",
       "      <th>1</th>\n",
       "      <td>10.9</td>\n",
       "      <td>1001</td>\n",
       "      <td>1164.854264</td>\n",
       "      <td>-163.854264</td>\n",
       "    </tr>\n",
       "    <tr>\n",
       "      <th>2</th>\n",
       "      <td>23.5</td>\n",
       "      <td>1122</td>\n",
       "      <td>1397.969218</td>\n",
       "      <td>-275.969218</td>\n",
       "    </tr>\n",
       "    <tr>\n",
       "      <th>3</th>\n",
       "      <td>5.9</td>\n",
       "      <td>578</td>\n",
       "      <td>1072.348330</td>\n",
       "      <td>-494.348330</td>\n",
       "    </tr>\n",
       "    <tr>\n",
       "      <th>4</th>\n",
       "      <td>13.8</td>\n",
       "      <td>1368</td>\n",
       "      <td>1218.507706</td>\n",
       "      <td>149.492294</td>\n",
       "    </tr>\n",
       "    <tr>\n",
       "      <th>5</th>\n",
       "      <td>20.0</td>\n",
       "      <td>1145</td>\n",
       "      <td>1333.215064</td>\n",
       "      <td>-188.215064</td>\n",
       "    </tr>\n",
       "    <tr>\n",
       "      <th>6</th>\n",
       "      <td>16.4</td>\n",
       "      <td>1078</td>\n",
       "      <td>1266.610792</td>\n",
       "      <td>-188.610792</td>\n",
       "    </tr>\n",
       "    <tr>\n",
       "      <th>7</th>\n",
       "      <td>16.3</td>\n",
       "      <td>1094</td>\n",
       "      <td>1264.760673</td>\n",
       "      <td>-170.760673</td>\n",
       "    </tr>\n",
       "    <tr>\n",
       "      <th>8</th>\n",
       "      <td>10.5</td>\n",
       "      <td>1237</td>\n",
       "      <td>1157.453789</td>\n",
       "      <td>79.546211</td>\n",
       "    </tr>\n",
       "    <tr>\n",
       "      <th>9</th>\n",
       "      <td>26.3</td>\n",
       "      <td>833</td>\n",
       "      <td>1449.772542</td>\n",
       "      <td>-616.772542</td>\n",
       "    </tr>\n",
       "    <tr>\n",
       "      <th>10</th>\n",
       "      <td>25.9</td>\n",
       "      <td>567</td>\n",
       "      <td>1442.372067</td>\n",
       "      <td>-875.372067</td>\n",
       "    </tr>\n",
       "    <tr>\n",
       "      <th>11</th>\n",
       "      <td>26.8</td>\n",
       "      <td>933</td>\n",
       "      <td>1459.023135</td>\n",
       "      <td>-526.023135</td>\n",
       "    </tr>\n",
       "    <tr>\n",
       "      <th>12</th>\n",
       "      <td>14.8</td>\n",
       "      <td>1339</td>\n",
       "      <td>1237.008893</td>\n",
       "      <td>101.991107</td>\n",
       "    </tr>\n",
       "    <tr>\n",
       "      <th>13</th>\n",
       "      <td>22.3</td>\n",
       "      <td>937</td>\n",
       "      <td>1375.767794</td>\n",
       "      <td>-438.767794</td>\n",
       "    </tr>\n",
       "    <tr>\n",
       "      <th>14</th>\n",
       "      <td>56.3</td>\n",
       "      <td>2011</td>\n",
       "      <td>2004.808147</td>\n",
       "      <td>6.191853</td>\n",
       "    </tr>\n",
       "  </tbody>\n",
       "</table>\n",
       "</div>"
      ],
      "text/plain": [
       "       x     y        y_hat           u\n",
       "0   14.1  1095  1224.058062 -129.058062\n",
       "1   10.9  1001  1164.854264 -163.854264\n",
       "2   23.5  1122  1397.969218 -275.969218\n",
       "3    5.9   578  1072.348330 -494.348330\n",
       "4   13.8  1368  1218.507706  149.492294\n",
       "5   20.0  1145  1333.215064 -188.215064\n",
       "6   16.4  1078  1266.610792 -188.610792\n",
       "7   16.3  1094  1264.760673 -170.760673\n",
       "8   10.5  1237  1157.453789   79.546211\n",
       "9   26.3   833  1449.772542 -616.772542\n",
       "10  25.9   567  1442.372067 -875.372067\n",
       "11  26.8   933  1459.023135 -526.023135\n",
       "12  14.8  1339  1237.008893  101.991107\n",
       "13  22.3   937  1375.767794 -438.767794\n",
       "14  56.3  2011  2004.808147    6.191853"
      ]
     },
     "execution_count": 9,
     "metadata": {},
     "output_type": "execute_result"
    }
   ],
   "source": [
    "y_hat = model.predict(X_sm)\n",
    "errors = pd.DataFrame({'x': X, 'y': y, 'y_hat': y_hat, 'u': y - y_hat})\n",
    "errors.head(15)"
   ]
  },
  {
   "cell_type": "markdown",
   "metadata": {},
   "source": [
    "Los primeros cuatro CEO tienen un sueldo menor que el que se predice empleando la línea de regresión\n",
    "de MCO; en otras palabras, dado únicamente el roe de las empresas, estos CEO ganan menos de lo\n",
    "que se predice. Como se puede ver, por el ugorro positivo, el quinto CEO gana más de lo que se predice\n",
    "de acuerdo con la línea de regresión de MCO."
   ]
  },
  {
   "cell_type": "markdown",
   "metadata": {},
   "source": [
    "(1) La suma, y por tanto el promedio muestral de los residuales de MCO, es cero."
   ]
  },
  {
   "cell_type": "code",
   "execution_count": 10,
   "metadata": {},
   "outputs": [
    {
     "data": {
      "text/plain": [
       "0.0"
      ]
     },
     "execution_count": 10,
     "metadata": {},
     "output_type": "execute_result"
    }
   ],
   "source": [
    "errors['u'].mean().round()"
   ]
  },
  {
   "cell_type": "markdown",
   "metadata": {},
   "source": [
    "(2) La covarianza muestral entre los regresores y los residuales de MCO es cero."
   ]
  },
  {
   "cell_type": "code",
   "execution_count": 11,
   "metadata": {},
   "outputs": [
    {
     "data": {
      "text/html": [
       "<div>\n",
       "<style scoped>\n",
       "    .dataframe tbody tr th:only-of-type {\n",
       "        vertical-align: middle;\n",
       "    }\n",
       "\n",
       "    .dataframe tbody tr th {\n",
       "        vertical-align: top;\n",
       "    }\n",
       "\n",
       "    .dataframe thead th {\n",
       "        text-align: right;\n",
       "    }\n",
       "</style>\n",
       "<table border=\"1\" class=\"dataframe\">\n",
       "  <thead>\n",
       "    <tr style=\"text-align: right;\">\n",
       "      <th></th>\n",
       "      <th>x</th>\n",
       "      <th>u</th>\n",
       "    </tr>\n",
       "  </thead>\n",
       "  <tbody>\n",
       "    <tr>\n",
       "      <th>x</th>\n",
       "      <td>73.0</td>\n",
       "      <td>-0.0</td>\n",
       "    </tr>\n",
       "    <tr>\n",
       "      <th>u</th>\n",
       "      <td>-0.0</td>\n",
       "      <td>1858493.0</td>\n",
       "    </tr>\n",
       "  </tbody>\n",
       "</table>\n",
       "</div>"
      ],
      "text/plain": [
       "      x          u\n",
       "x  73.0       -0.0\n",
       "u  -0.0  1858493.0"
      ]
     },
     "execution_count": 11,
     "metadata": {},
     "output_type": "execute_result"
    }
   ],
   "source": [
    "errors[['x', 'u']].cov().round()"
   ]
  },
  {
   "cell_type": "markdown",
   "metadata": {},
   "source": [
    "Se definen la suma total de cuadrados (STC), la suma explicada de cuadrados (SEC) y\n",
    "la suma residual de cuadrados (SRC) (conocida también como suma de residuales cuadrados),\n",
    "como sigue:\n",
    "\n",
    "$$ STC \\equiv \\sum_{i=1}^{n}{\\left(y_i - \\bar{y}\\right)^2}$$\n",
    "\n",
    "$$ SEC \\equiv \\sum_{i=1}^{n}{\\left(\\hat{y_i} - \\bar{y}\\right)^2}$$\n",
    "\n",
    "$$ SRC \\equiv \\sum_{i=1}^{n}{\\hat{u}_i ^2}$$\n",
    "\n",
    "$$ STC = SEC + SRC$$"
   ]
  },
  {
   "cell_type": "code",
   "execution_count": 12,
   "metadata": {},
   "outputs": [
    {
     "name": "stdout",
     "output_type": "stream",
     "text": [
      "El modelo cumplio la condición de estadistica\n"
     ]
    }
   ],
   "source": [
    "STC = ((y-y.mean())**2).sum()\n",
    "SEC = ((y_hat-y.mean())**2).sum()\n",
    "SRC = (errors['u']**2).sum()\n",
    "\n",
    "if STC == (SEC + SRC):\n",
    "    print('El modelo cumplio la condición de estadistica')\n",
    "else:\n",
    "    print('El modelo no cumplio la condición de estadistica')"
   ]
  },
  {
   "cell_type": "markdown",
   "metadata": {},
   "source": [
    "R2 es el cociente de la variación explicada entre la variación total; por tanto, se interpreta como la proporción de la variación muestral de y que es explicada por x. La segunda igualdad en la ecuación proporciona otra manera de calcular R2.\n",
    "\n",
    "$$ R^2 \\equiv SEC/STC = 1 - SRC/STC $$\n",
    "\n",
    "Al interpretar R2 , se acostumbra multiplicarla por 100 para transformarla en un porcentaje: 100 * R2 es el porcentaje de la variación muestral de y que es explicada por x."
   ]
  },
  {
   "cell_type": "code",
   "execution_count": 13,
   "metadata": {},
   "outputs": [
    {
     "data": {
      "text/plain": [
       "0.0132"
      ]
     },
     "execution_count": 13,
     "metadata": {},
     "output_type": "execute_result"
    }
   ],
   "source": [
    "# Se calcula el coeficiente de determinación r2.\n",
    "(SEC/STC).round(4)\n"
   ]
  },
  {
   "cell_type": "code",
   "execution_count": 14,
   "metadata": {},
   "outputs": [
    {
     "data": {
      "text/plain": [
       "0.0132"
      ]
     },
     "execution_count": 14,
     "metadata": {},
     "output_type": "execute_result"
    }
   ],
   "source": [
    "# Una forma alternativa de calcular el coeficiente de determinación r2 con la api de sklearn.\n",
    "r2_score(y, y_hat).round(4)"
   ]
  },
  {
   "cell_type": "markdown",
   "metadata": {},
   "source": [
    "El rendimiento sobre el capital de las empresas sólo explica, aproximadamente, 1.3 por ciento de la variación en los salarios de esta muestra de 209 CEO. Esto significa que ¡98.7 por ciento de la variación en los salarios de estos CEO no queda explicada! Esta falta de poder explicativo no debe sorprender, pues hay otras múltiples características, tanto de la empresa como de cada CEO, que influyen en el sueldo; estos factores quedan necesariamente incluidos en los errores en un análisis de regresión simple."
   ]
  },
  {
   "cell_type": "code",
   "execution_count": 24,
   "metadata": {},
   "outputs": [
    {
     "data": {
      "image/png": "[encoded data removed]",
      "text/plain": [
       "<Figure size 432x288 with 1 Axes>"
      ]
     },
     "metadata": {
      "needs_background": "light"
     },
     "output_type": "display_data"
    }
   ],
   "source": [
    "corre = np.corrcoef(errors['u'], errors['y'])[0][1]\n",
    "\n",
    "sns.scatterplot(y=errors['y'], x=errors['u'], alpha=0.3)\n",
    "plt.title('Correlación entre el u y el salario %.3f' % corre)\n",
    "plt.show()\n"
   ]
  },
  {
   "cell_type": "code",
   "execution_count": 25,
   "metadata": {},
   "outputs": [
    {
     "data": {
      "image/png": "[encoded data removed]",
      "text/plain": [
       "<Figure size 432x288 with 1 Axes>"
      ]
     },
     "metadata": {
      "needs_background": "light"
     },
     "output_type": "display_data"
    }
   ],
   "source": [
    "corre = np.corrcoef(errors['u'], errors['x'])[0][1]\n",
    "\n",
    "sns.scatterplot(y=errors['x'], x=errors['u'], alpha=0.3)\n",
    "plt.title('Correlación entre el u y ROE %.3f' % corre)\n",
    "plt.show()"
   ]
  }
 ],
 "metadata": {
  "interpreter": {
   "hash": "4f3e88968e79eb17d1c50545c458a5c335732b257e528cef8662e2abe410ff26"
  },
  "kernelspec": {
   "display_name": "Python 3.8.10 64-bit (windows store)",
   "language": "python",
   "name": "python3"
  },
  "language_info": {
   "codemirror_mode": {
    "name": "ipython",
    "version": 3
   },
   "file_extension": ".py",
   "mimetype": "text/x-python",
   "name": "python",
   "nbconvert_exporter": "python",
   "pygments_lexer": "ipython3",
   "version": "3.8.10"
  },
  "orig_nbformat": 4
 },
 "nbformat": 4,
 "nbformat_minor": 2
}
