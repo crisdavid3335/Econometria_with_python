{
 "cells": [
  {
   "cell_type": "markdown",
   "metadata": {},
   "source": [
    "En el ejemplo 2.12 se usan los datos de MEAP93.RAW. Ahora se quiere explorar la relación\n",
    "entre la tasa de aprobados en matemáticas (math10) y el gasto por estudiante (expend).\n",
    "\n",
    "i) ¿Piensa que cada dólar más que se gasta tiene un mismo efecto en la tasa de aprobados\n",
    "o parece más apropiado que haya un efecto decreciente? Explique."
   ]
  },
  {
   "cell_type": "code",
   "execution_count": 1,
   "metadata": {},
   "outputs": [
    {
     "name": "stdout",
     "output_type": "stream",
     "text": [
      "\n",
      "Si el gasto por estudiante se incrementa, es esperable esperar\n",
      "que la tasa de estudiantes aprovados se incremente. Sin embargo,\n",
      "si el gasto por estudiante se eleva al infinito no es posible esperar\n",
      "que la tasa de estudiantes aprovados se incremente hasta la totalidad.\n",
      "Es claro que la tasa se ira incrementando hasta que el aporte de cada \n",
      "dólar nuevo se vuelva cero. Es decir rendimientos decrecientes.\n",
      "\n"
     ]
    }
   ],
   "source": [
    "# Respuesta 1\n",
    "respuesta = '''\n",
    "Si el gasto por estudiante se incrementa, es esperable esperar\n",
    "que la tasa de estudiantes aprovados se incremente. Sin embargo,\n",
    "si el gasto por estudiante se eleva al infinito no es posible esperar\n",
    "que la tasa de estudiantes aprovados se incremente hasta la totalidad.\n",
    "Es claro que la tasa se ira incrementando hasta que el aporte de cada \n",
    "dólar nuevo se vuelva cero. Es decir rendimientos decrecientes.\n",
    "'''\n",
    "print(respuesta)"
   ]
  },
  {
   "cell_type": "markdown",
   "metadata": {},
   "source": [
    "ii) En el modelo poblacional\n",
    "\n",
    "$$ math10 = \\beta_0 + \\beta_1 log(expend) + u, $$\n",
    "\n",
    "justifique que $\\beta_1 / 10$ es el cambio en puntos porcentuales en math10 dado un aumento de\n",
    "10% en expend."
   ]
  },
  {
   "cell_type": "code",
   "execution_count": 2,
   "metadata": {},
   "outputs": [
    {
     "name": "stdout",
     "output_type": "stream",
     "text": [
      "\n",
      "Se interpreta ß1 en el modelo como:\n",
      "        Δy = (ß1 / 100)% Δx\n",
      "por lo que si Δx = 10:\n",
      "        Δy = (ß1 / 100)% (10)\n",
      "        Δy = (ß1 / 10)%\n",
      "\n"
     ]
    }
   ],
   "source": [
    "# Respuesta 2\n",
    "respuesta = '''\n",
    "Se interpreta ß1 en el modelo como:\n",
    "        Δy = (ß1 / 100)% Δx\n",
    "por lo que si Δx = 10:\n",
    "        Δy = (ß1 / 100)% (10)\n",
    "        Δy = (ß1 / 10)%\n",
    "'''\n",
    "print(respuesta)"
   ]
  },
  {
   "cell_type": "markdown",
   "metadata": {},
   "source": [
    "iii) Use los datos de MEAP93.RAW para estimar el modelo del inciso ii). Dé la ecuación\n",
    "estimada de la manera usual, incluyendo el tamaño de la muestra y R-cuadrada."
   ]
  },
  {
   "cell_type": "code",
   "execution_count": 3,
   "metadata": {},
   "outputs": [
    {
     "name": "stdout",
     "output_type": "stream",
     "text": [
      "                          Modelo de Regresion Lineal                          \n",
      "==============================================================================\n",
      "Dep. Variable:                 math10   R-squared:                       0.030\n",
      "Model:                            OLS   Adj. R-squared:                  0.027\n",
      "Method:                 Least Squares   F-statistic:                     12.41\n",
      "Date:                Tue, 03 May 2022   Prob (F-statistic):           0.000475\n",
      "Time:                        00:05:31   Log-Likelihood:                -1531.4\n",
      "No. Observations:                 408   AIC:                             3067.\n",
      "Df Residuals:                     406   BIC:                             3075.\n",
      "Df Model:                           1                                         \n",
      "Covariance Type:            nonrobust                                         \n",
      "==============================================================================\n",
      "                 coef    std err          t      P>|t|      [0.025      0.975]\n",
      "------------------------------------------------------------------------------\n",
      "const        -69.3412     26.530     -2.614      0.009    -121.495     -17.188\n",
      "expend        11.1644      3.169      3.523      0.000       4.935      17.394\n",
      "==============================================================================\n",
      "Omnibus:                       28.397   Durbin-Watson:                   1.615\n",
      "Prob(Omnibus):                  0.000   Jarque-Bera (JB):               34.609\n",
      "Skew:                           0.591   Prob(JB):                     3.05e-08\n",
      "Kurtosis:                       3.800   Cond. No.                         440.\n",
      "==============================================================================\n",
      "\n",
      "Notes:\n",
      "[1] Standard Errors assume that the covariance matrix of the errors is correctly specified.\n"
     ]
    }
   ],
   "source": [
    "# Respuesta 3\n",
    "# Cargamos las librerías\n",
    "import matplotlib.pyplot as plt\n",
    "import numpy as np\n",
    "import pandas as pd\n",
    "import statsmodels.api as sm\n",
    "\n",
    "# Cargamos los datos\n",
    "data = pd.read_csv(\n",
    "    'C:/Users/crisd/OneDrive/Escritorio/libros/Datasets/MEAP93.csv',\n",
    "    usecols=['math10', 'expend'])\n",
    "\n",
    "# Modificamos los datos\n",
    "y = data['math10'].copy()\n",
    "x = np.log(data['expend'].copy())\n",
    "\n",
    "# Agregamos una columna de unos\n",
    "x_sm = sm.add_constant(x)\n",
    "\n",
    "# Creamos el modelo y lo entrenamos\n",
    "model = sm.OLS(y, x_sm).fit()\n",
    "\n",
    "# Imprimimos los resultados\n",
    "print(model.summary(title='Modelo de Regresion Lineal'))\n"
   ]
  },
  {
   "cell_type": "markdown",
   "metadata": {},
   "source": [
    "iv) ¿Qué tan grande es el efecto estimado del gasto? Es decir, si el gasto aumenta 10%, ¿cuál\n",
    "es el aumento de math10 en puntos porcentuales?"
   ]
  },
  {
   "cell_type": "code",
   "execution_count": 4,
   "metadata": {},
   "outputs": [
    {
     "name": "stdout",
     "output_type": "stream",
     "text": [
      "\n",
      "El efecto estimado del gasto por estudiante es: 11.16%, \n",
      "es decir que si el gasto por estudiante se incrementa en 10%,\n",
      "la tasa se incrementa en 1.06408 puntos en promedio.\n",
      "\n"
     ]
    }
   ],
   "source": [
    "b1 = model.params[1]\n",
    "b0 = model.params[0]\n",
    "\n",
    "respuesta = f'''\n",
    "El efecto estimado del gasto por estudiante es: {b1:.2f}%, \n",
    "es decir que si el gasto por estudiante se incrementa en 10%,\n",
    "la tasa se incrementa en {b1 * np.log(1.1):.5f} puntos en promedio.\n",
    "'''\n",
    "\n",
    "print(respuesta)"
   ]
  },
  {
   "cell_type": "markdown",
   "metadata": {},
   "source": [
    "v) Puede ser preocupante que el análisis de regresión produzca valores ajustados para\n",
    "math10 que sean mayores a 100. ¿Por qué esto no es de preocupar en esta base estándar\n",
    "de datos?"
   ]
  },
  {
   "cell_type": "code",
   "execution_count": 5,
   "metadata": {},
   "outputs": [
    {
     "name": "stdout",
     "output_type": "stream",
     "text": [
      "\n",
      "Es un problema que el modelo prediga una tasa de mas del 100% de aprobaciones.\n",
      "Sin embargo, esto no es un problema en este conjunto de datos dado que el aporte\n",
      "maximo es de 7419 dólares, con transformación logaritmica es 8.912 \n",
      "y produce una predicción de aprobación del 30.15% lo que esta muy lejos del 100%.\n",
      "\n"
     ]
    }
   ],
   "source": [
    "y_hat = b0 + b1 * max(x)\n",
    "\n",
    "respuesta = f'''\n",
    "Es un problema que el modelo prediga una tasa de mas del 100% de aprobaciones.\n",
    "Sin embargo, esto no es un problema en este conjunto de datos dado que el aporte\n",
    "maximo es de {int(np.exp(max(x)))} dólares, con transformación logaritmica es {round(max(x), 3)} \n",
    "y produce una predicción de aprobación del {y_hat:.2f}% lo que esta muy lejos del 100%.\n",
    "'''\n",
    "print(respuesta)\n"
   ]
  },
  {
   "cell_type": "code",
   "execution_count": 6,
   "metadata": {},
   "outputs": [
    {
     "data": {
      "image/png": "[encoded data removed]",
      "text/plain": [
       "<Figure size 720x360 with 1 Axes>"
      ]
     },
     "metadata": {
      "needs_background": "light"
     },
     "output_type": "display_data"
    }
   ],
   "source": [
    "# Por ultimo, graficamos los datos\n",
    "plt.figure(figsize=(10, 5))\n",
    "plt.scatter(x, y)\n",
    "plt.plot(x, model.predict(x_sm), 'r')\n",
    "plt.title('Modelo de Regresion Lineal', fontsize=20)\n",
    "plt.xlabel('Gasto por estudiante', fontsize=15)\n",
    "plt.ylabel('Tasa de aprobación', fontsize=15)\n",
    "plt.show()"
   ]
  }
 ],
 "metadata": {
  "interpreter": {
   "hash": "4f3e88968e79eb17d1c50545c458a5c335732b257e528cef8662e2abe410ff26"
  },
  "kernelspec": {
   "display_name": "Python 3.8.10 64-bit (windows store)",
   "language": "python",
   "name": "python3"
  },
  "language_info": {
   "codemirror_mode": {
    "name": "ipython",
    "version": 3
   },
   "file_extension": ".py",
   "mimetype": "text/x-python",
   "name": "python",
   "nbconvert_exporter": "python",
   "pygments_lexer": "ipython3",
   "version": "3.8.10"
  },
  "orig_nbformat": 4
 },
 "nbformat": 4,
 "nbformat_minor": 2
}
