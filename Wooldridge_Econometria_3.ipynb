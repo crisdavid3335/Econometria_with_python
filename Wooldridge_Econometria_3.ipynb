{
 "cells": [
  {
   "cell_type": "markdown",
   "metadata": {},
   "source": [
    "En la población formada por las empresas de la industria química, sea rd gastos anuales en\n",
    "investigación y desarrollo y sales ventas anuales (ambos en millones de dólares)."
   ]
  },
  {
   "cell_type": "markdown",
   "metadata": {},
   "source": [
    "i) Dé un modelo (no una ecuación estimada) que implique una elasticidad constante entre\n",
    "rd y sales. ¿Qué parámetro es la elasticidad?"
   ]
  },
  {
   "cell_type": "code",
   "execution_count": 1,
   "metadata": {},
   "outputs": [],
   "source": [
    "# Importamos las librerias\n",
    "import numpy as np\n",
    "import pandas as pd\n",
    "import statsmodels.api as sm\n",
    "import matplotlib.pyplot as plt\n",
    "from sklearn.metrics import r2_score\n"
   ]
  },
  {
   "cell_type": "code",
   "execution_count": 2,
   "metadata": {},
   "outputs": [
    {
     "name": "stdout",
     "output_type": "stream",
     "text": [
      "\n",
      "Un modelo de elasticidad constante se define como un modelo log-log.\n",
      "Esto significa que el modelo es una ecuación con ambos lados logarítmicos.\n",
      "Estos modelos se interpretan como cambios porcentuales de los valores de las variables.\n",
      "Un cambio de un 1% en la variable X se produce un cambio de X% en la variable Y.\n",
      "Por tanto el modelo puede definirse como:\n",
      "                    \n",
      "                    log(rd) = bo + b1 * log(sales)  \n",
      "\n",
      "cuya elasticidad es el coeficiente b1.\n",
      "\n",
      "\n"
     ]
    }
   ],
   "source": [
    "# Respuesta 1\n",
    "respuesta = '''\n",
    "Un modelo de elasticidad constante se define como un modelo log-log.\n",
    "Esto significa que el modelo es una ecuación con ambos lados logarítmicos.\n",
    "Estos modelos se interpretan como cambios porcentuales de los valores de las variables.\n",
    "Un cambio de un 1% en la variable X se produce un cambio de X% en la variable Y.\n",
    "Por tanto el modelo puede definirse como:\n",
    "                    \n",
    "                    log(rd) = bo + b1 * log(sales)  \n",
    "\n",
    "cuya elasticidad es el coeficiente b1.\n",
    "\n",
    "'''\n",
    "print(respuesta)\n"
   ]
  },
  {
   "cell_type": "markdown",
   "metadata": {},
   "source": [
    "ii) Ahora, estime el modelo usando la base de datos RDCHEM.RAW. Escriba la ecuación\n",
    "estimada en su forma usual. ¿Cuál es la elasticidad estimada para rd respecto a sales?\n",
    "Explique qué significa esta elasticidad.\n"
   ]
  },
  {
   "cell_type": "code",
   "execution_count": 3,
   "metadata": {},
   "outputs": [
    {
     "data": {
      "text/html": [
       "<div>\n",
       "<style scoped>\n",
       "    .dataframe tbody tr th:only-of-type {\n",
       "        vertical-align: middle;\n",
       "    }\n",
       "\n",
       "    .dataframe tbody tr th {\n",
       "        vertical-align: top;\n",
       "    }\n",
       "\n",
       "    .dataframe thead th {\n",
       "        text-align: right;\n",
       "    }\n",
       "</style>\n",
       "<table border=\"1\" class=\"dataframe\">\n",
       "  <thead>\n",
       "    <tr style=\"text-align: right;\">\n",
       "      <th></th>\n",
       "      <th>rd</th>\n",
       "      <th>sales</th>\n",
       "    </tr>\n",
       "  </thead>\n",
       "  <tbody>\n",
       "    <tr>\n",
       "      <th>0</th>\n",
       "      <td>430.600006</td>\n",
       "      <td>4570.200195</td>\n",
       "    </tr>\n",
       "    <tr>\n",
       "      <th>1</th>\n",
       "      <td>59.000000</td>\n",
       "      <td>2830.000000</td>\n",
       "    </tr>\n",
       "    <tr>\n",
       "      <th>2</th>\n",
       "      <td>23.500000</td>\n",
       "      <td>596.799988</td>\n",
       "    </tr>\n",
       "    <tr>\n",
       "      <th>3</th>\n",
       "      <td>3.500000</td>\n",
       "      <td>133.600006</td>\n",
       "    </tr>\n",
       "    <tr>\n",
       "      <th>4</th>\n",
       "      <td>1.700000</td>\n",
       "      <td>42.000000</td>\n",
       "    </tr>\n",
       "  </tbody>\n",
       "</table>\n",
       "</div>"
      ],
      "text/plain": [
       "           rd        sales\n",
       "0  430.600006  4570.200195\n",
       "1   59.000000  2830.000000\n",
       "2   23.500000   596.799988\n",
       "3    3.500000   133.600006\n",
       "4    1.700000    42.000000"
      ]
     },
     "execution_count": 3,
     "metadata": {},
     "output_type": "execute_result"
    }
   ],
   "source": [
    "# Respuesta 2\n",
    "# Importamos el conjunto de datos\n",
    "datos = pd.read_csv('C:/Users/crisd/OneDrive/Escritorio/libros/Datasets/RDCHEM.csv', \n",
    "usecols=['rd', 'sales'])\n",
    "datos.head()"
   ]
  },
  {
   "cell_type": "code",
   "execution_count": 4,
   "metadata": {},
   "outputs": [
    {
     "data": {
      "text/html": [
       "<table class=\"simpletable\">\n",
       "<caption>Modelo de Regresion Log-Log</caption>\n",
       "<tr>\n",
       "  <th>Dep. Variable:</th>           <td>rd</td>        <th>  R-squared:         </th> <td>   0.910</td>\n",
       "</tr>\n",
       "<tr>\n",
       "  <th>Model:</th>                   <td>OLS</td>       <th>  Adj. R-squared:    </th> <td>   0.907</td>\n",
       "</tr>\n",
       "<tr>\n",
       "  <th>Method:</th>             <td>Least Squares</td>  <th>  F-statistic:       </th> <td>   302.7</td>\n",
       "</tr>\n",
       "<tr>\n",
       "  <th>Date:</th>             <td>Mon, 02 May 2022</td> <th>  Prob (F-statistic):</th> <td>3.20e-17</td>\n",
       "</tr>\n",
       "<tr>\n",
       "  <th>Time:</th>                 <td>22:50:05</td>     <th>  Log-Likelihood:    </th> <td> -24.021</td>\n",
       "</tr>\n",
       "<tr>\n",
       "  <th>No. Observations:</th>      <td>    32</td>      <th>  AIC:               </th> <td>   52.04</td>\n",
       "</tr>\n",
       "<tr>\n",
       "  <th>Df Residuals:</th>          <td>    30</td>      <th>  BIC:               </th> <td>   54.97</td>\n",
       "</tr>\n",
       "<tr>\n",
       "  <th>Df Model:</th>              <td>     1</td>      <th>                     </th>     <td> </td>   \n",
       "</tr>\n",
       "<tr>\n",
       "  <th>Covariance Type:</th>      <td>nonrobust</td>    <th>                     </th>     <td> </td>   \n",
       "</tr>\n",
       "</table>\n",
       "<table class=\"simpletable\">\n",
       "<tr>\n",
       "    <td></td>       <th>coef</th>     <th>std err</th>      <th>t</th>      <th>P>|t|</th>  <th>[0.025</th>    <th>0.975]</th>  \n",
       "</tr>\n",
       "<tr>\n",
       "  <th>const</th> <td>   -4.1047</td> <td>    0.453</td> <td>   -9.066</td> <td> 0.000</td> <td>   -5.029</td> <td>   -3.180</td>\n",
       "</tr>\n",
       "<tr>\n",
       "  <th>sales</th> <td>    1.0757</td> <td>    0.062</td> <td>   17.399</td> <td> 0.000</td> <td>    0.949</td> <td>    1.202</td>\n",
       "</tr>\n",
       "</table>\n",
       "<table class=\"simpletable\">\n",
       "<tr>\n",
       "  <th>Omnibus:</th>       <td> 1.407</td> <th>  Durbin-Watson:     </th> <td>   1.847</td>\n",
       "</tr>\n",
       "<tr>\n",
       "  <th>Prob(Omnibus):</th> <td> 0.495</td> <th>  Jarque-Bera (JB):  </th> <td>   1.025</td>\n",
       "</tr>\n",
       "<tr>\n",
       "  <th>Skew:</th>          <td> 0.139</td> <th>  Prob(JB):          </th> <td>   0.599</td>\n",
       "</tr>\n",
       "<tr>\n",
       "  <th>Kurtosis:</th>      <td> 2.168</td> <th>  Cond. No.          </th> <td>    36.1</td>\n",
       "</tr>\n",
       "</table><br/><br/>Notes:<br/>[1] Standard Errors assume that the covariance matrix of the errors is correctly specified."
      ],
      "text/plain": [
       "<class 'statsmodels.iolib.summary.Summary'>\n",
       "\"\"\"\n",
       "                         Modelo de Regresion Log-Log                          \n",
       "==============================================================================\n",
       "Dep. Variable:                     rd   R-squared:                       0.910\n",
       "Model:                            OLS   Adj. R-squared:                  0.907\n",
       "Method:                 Least Squares   F-statistic:                     302.7\n",
       "Date:                Mon, 02 May 2022   Prob (F-statistic):           3.20e-17\n",
       "Time:                        22:50:05   Log-Likelihood:                -24.021\n",
       "No. Observations:                  32   AIC:                             52.04\n",
       "Df Residuals:                      30   BIC:                             54.97\n",
       "Df Model:                           1                                         \n",
       "Covariance Type:            nonrobust                                         \n",
       "==============================================================================\n",
       "                 coef    std err          t      P>|t|      [0.025      0.975]\n",
       "------------------------------------------------------------------------------\n",
       "const         -4.1047      0.453     -9.066      0.000      -5.029      -3.180\n",
       "sales          1.0757      0.062     17.399      0.000       0.949       1.202\n",
       "==============================================================================\n",
       "Omnibus:                        1.407   Durbin-Watson:                   1.847\n",
       "Prob(Omnibus):                  0.495   Jarque-Bera (JB):                1.025\n",
       "Skew:                           0.139   Prob(JB):                        0.599\n",
       "Kurtosis:                       2.168   Cond. No.                         36.1\n",
       "==============================================================================\n",
       "\n",
       "Notes:\n",
       "[1] Standard Errors assume that the covariance matrix of the errors is correctly specified.\n",
       "\"\"\""
      ]
     },
     "execution_count": 4,
     "metadata": {},
     "output_type": "execute_result"
    }
   ],
   "source": [
    "# Transformamos los datos y los separamos\n",
    "X = np.log(datos['sales'].copy())\n",
    "y = np.log(datos['rd'].copy())\n",
    "\n",
    "# Se agregan las variables constantes\n",
    "X_sm = sm.add_constant(X)\n",
    "\n",
    "# Se crea el modelo y se entrena\n",
    "model = sm.OLS(y, X_sm).fit()\n",
    "\n",
    "# Se imprime el resumen del modelo\n",
    "model.summary(title='Modelo de Regresion Log-Log')"
   ]
  },
  {
   "cell_type": "code",
   "execution_count": 5,
   "metadata": {},
   "outputs": [
    {
     "name": "stdout",
     "output_type": "stream",
     "text": [
      "La elasticidad del modelo es de : 1.08%\n",
      "\n",
      "Esto significa que si las ventas aumentan en un 1% el gasto en I+D aumenta en un 1.8%.\n",
      "\n"
     ]
    }
   ],
   "source": [
    "print('La elasticidad del modelo es de : %.2f%%' %model.params[1].round(2))\n",
    "\n",
    "respuesta = '''\n",
    "Esto significa que si las ventas aumentan en un 1% el gasto en I+D aumenta en un 1.8%.\n",
    "'''\n",
    "print(respuesta)\n"
   ]
  },
  {
   "cell_type": "code",
   "execution_count": 6,
   "metadata": {},
   "outputs": [
    {
     "data": {
      "image/png": "[encoded data removed]",
      "text/plain": [
       "<Figure size 720x432 with 1 Axes>"
      ]
     },
     "metadata": {
      "needs_background": "light"
     },
     "output_type": "display_data"
    }
   ],
   "source": [
    "# Como ultimo paso, se grafica el modelo\n",
    "plt.figure(figsize=(10,6))\n",
    "plt.scatter(X, y)\n",
    "plt.plot(X, model.predict(X_sm), color='red')\n",
    "plt.title(\n",
    "    f'Modelo de Regresion Log-Log\\nR2: {r2_score(y, model.predict(X_sm)):.2f}', fontsize=20)\n",
    "plt.xlabel('Log(sales)', fontsize=16)\n",
    "plt.ylabel('Log(rd)', fontsize=16)\n",
    "plt.show()\n"
   ]
  }
 ],
 "metadata": {
  "interpreter": {
   "hash": "4f3e88968e79eb17d1c50545c458a5c335732b257e528cef8662e2abe410ff26"
  },
  "kernelspec": {
   "display_name": "Python 3.8.10 64-bit (windows store)",
   "language": "python",
   "name": "python3"
  },
  "language_info": {
   "codemirror_mode": {
    "name": "ipython",
    "version": 3
   },
   "file_extension": ".py",
   "mimetype": "text/x-python",
   "name": "python",
   "nbconvert_exporter": "python",
   "pygments_lexer": "ipython3",
   "version": "3.8.10"
  },
  "orig_nbformat": 4
 },
 "nbformat": 4,
 "nbformat_minor": 2
}
